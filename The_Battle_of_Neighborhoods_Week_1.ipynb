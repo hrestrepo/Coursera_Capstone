{
 "cells": [
  {
   "cell_type": "markdown",
   "metadata": {},
   "source": [
    "# Capstone Project - The Battle of the Neighborhoods"
   ]
  },
  {
   "cell_type": "markdown",
   "metadata": {},
   "source": [
    "## Applied Data Science Capstone"
   ]
  },
  {
   "cell_type": "markdown",
   "metadata": {},
   "source": [
    "###### by Harold Ricardo Restrepo"
   ]
  },
  {
   "cell_type": "markdown",
   "metadata": {},
   "source": [
    "### Week 5: Introduction/Business Problem"
   ]
  },
  {
   "cell_type": "markdown",
   "metadata": {},
   "source": [
    "As an the main part of the IBM Data Science certification, is needed a Capstone Project that for this season is called The Battle of Neighborhoods."
   ]
  },
  {
   "cell_type": "markdown",
   "metadata": {},
   "source": [
    "### 1.\tA description of the problem and a discussion of the background."
   ]
  },
  {
   "cell_type": "markdown",
   "metadata": {},
   "source": [
    "Bogotá, the capital of Colombia, is a city with more than 10 million habitants, it is the main economic center of the country. It is the Colombian city with the largest number of foreign companies, one of the factors that position it as the largest labor market in its country. Bogotá is the largest business platform in Colombia, with 21% of the companies registered in the country, and additionally, 67% of Colombian high-impact enterprises are located in the city. Bogotá one of the five most attractive Latin American capitals to invest\n",
    "\n",
    "In spite of being a very populated capital, it is one of the few in the world that for the amount of habitants it has not  a massive transport like the subway. Until this year 2020 begins the first works. That is why in the medium term economic growth is planned at all levels.\n",
    "\n",
    "This is why the problem posed is to identify which are the areas in which there are more businesses, which have been the most popular and which areas are in which there are more opportunities to open a business."
   ]
  },
  {
   "cell_type": "markdown",
   "metadata": {},
   "source": [
    "### 2.\tA description of the data and how it will be used to solve the problem"
   ]
  },
  {
   "cell_type": "markdown",
   "metadata": {},
   "source": [
    "To perform this analysis, the following main sources of data are available:\n",
    "- Wikipedia, where we will get the locations in which the city is divided. Bogota is divided in 20 \"Localidades\". For each \"Localidad\" we will obtain the postal codes of https://es.wikipedia.org/wiki/Anex:Bogot%C3%A1_Localities.\n",
    "- Then we will get the geographic coordinates using geopy.\n",
    "- With the previous data, we started the search of the different businesses in the different areas using the Foursquare API.\n",
    "- ML tools will also be used as clustering to support the conclusions.\n",
    "- Finally, we have the tools and data to start with the analysis."
   ]
  },
  {
   "cell_type": "markdown",
   "metadata": {},
   "source": [
    "#### What type of clients or a group of people would be interested in this project?"
   ]
  },
  {
   "cell_type": "markdown",
   "metadata": {},
   "source": [
    "This project may interest tourism agencies, tourists themselves, both business and leisure, although the focus is that it serves potential investors as an alternative for expanding their businesses.\n",
    "\n",
    "Additionally, it serves as an example for data science analyzes to focus on these developing countries.\n"
   ]
  }
 ],
 "metadata": {
  "kernelspec": {
   "display_name": "Python 3",
   "language": "python",
   "name": "python3"
  },
  "language_info": {
   "codemirror_mode": {
    "name": "ipython",
    "version": 3
   },
   "file_extension": ".py",
   "mimetype": "text/x-python",
   "name": "python",
   "nbconvert_exporter": "python",
   "pygments_lexer": "ipython3",
   "version": "3.7.4"
  }
 },
 "nbformat": 4,
 "nbformat_minor": 2
}
